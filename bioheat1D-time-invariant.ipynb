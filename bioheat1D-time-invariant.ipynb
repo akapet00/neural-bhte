{
 "cells": [
  {
   "cell_type": "markdown",
   "metadata": {},
   "source": [
    "Imports."
   ]
  },
  {
   "cell_type": "code",
   "execution_count": 1,
   "metadata": {},
   "outputs": [],
   "source": [
    "import datetime\n",
    "import time\n",
    "import os\n",
    "import sys\n",
    "sys.path.insert(0, 'utils/')\n",
    "\n",
    "import matplotlib.pyplot as plt\n",
    "\n",
    "import numpy as np\n",
    "\n",
    "from scipy.integrate import quad\n",
    "\n",
    "import numba\n",
    "from numba import njit"
   ]
  },
  {
   "cell_type": "markdown",
   "metadata": {},
   "source": [
    "Testing TF, GPU drivers and ROCm support."
   ]
  },
  {
   "cell_type": "code",
   "execution_count": 2,
   "metadata": {},
   "outputs": [
    {
     "name": "stdout",
     "output_type": "stream",
     "text": [
      "TF version: 1.15.0\n",
      "GPU support enabled: True\n",
      "ROCm support enabled: False\n",
      "CUDA support enabled: True\n"
     ]
    }
   ],
   "source": [
    "import tensorflow as tf\n",
    "# because of tf version many warnings will occur\n",
    "tf.compat.v1.logging.set_verbosity(tf.compat.v1.logging.ERROR)\n",
    "import deepxde as dde\n",
    "\n",
    "print('TF version: {}'.format(tf.__version__))\n",
    "print('GPU support enabled: {}'.format(tf.test.is_built_with_gpu_support()))\n",
    "print('ROCm support enabled: {}'.format(tf.test.is_built_with_rocm()))\n",
    "print('CUDA support enabled: {}'.format(tf.test.is_built_with_cuda()))"
   ]
  },
  {
   "cell_type": "markdown",
   "metadata": {},
   "source": [
    "Figures configuration for journal papers."
   ]
  },
  {
   "cell_type": "code",
   "execution_count": 3,
   "metadata": {},
   "outputs": [],
   "source": [
    "from Plotting import latexconfig, figsize\n",
    "latexconfig()"
   ]
  },
  {
   "cell_type": "markdown",
   "metadata": {},
   "source": [
    "# 1D Bioheat transfer time-invariant equation\n",
    "\n",
    "Time-variant 1D Pennes equation:\n",
    "\n",
    "$$\n",
    "\\nabla(k \\nabla T) + Q_b + Q_m + Q_{ext} = c_v \\rho \\frac{\\partial T}{\\partial t}\n",
    "$$\n",
    "\n",
    "where $Q_b = w_b \\cdot T_a - w_b \\cdot T$.\n",
    "\n",
    "Time-invariant form:\n",
    "\n",
    "$$\n",
    "k \\cdot \\frac{d^2 T}{d x^2} - w_b \\cdot T(x) + w_b \\cdot T_a + Q_m + Q_{ext} = 0\n",
    "$$\n",
    "\n",
    "Boundary conditions:\n",
    "\n",
    "**Dirichlet** $$\n",
    "T_L(x) = T_c \\hspace{10mm} x=L;\n",
    "$$\n",
    "\n",
    "**Robins** $$\n",
    "-k \\frac{dT_0(x)}{dx}=h_0[T_f - T_0(x)] \\hspace{10mm} x=0.\n",
    "$$\n",
    "\n",
    "Calculations for no external source of heating, $Q_{ext} = 0$."
   ]
  },
  {
   "cell_type": "code",
   "execution_count": 4,
   "metadata": {},
   "outputs": [],
   "source": [
    "# consts \n",
    "c_b = 4200 \n",
    "rho_b = 1e3 \n",
    "om_b = 5e-4\n",
    "c = 4200 \n",
    "h_f = 100;\n",
    "T_c = 37\n",
    "L = 3e-2\n",
    "\n",
    "# random variables\n",
    "k = 0.5\n",
    "w_b = c_b*rho_b*om_b\n",
    "Q_m = 33800\n",
    "h_0 = 10\n",
    "T_f = 25\n",
    "T_a = 37\n",
    "rvs = [k, w_b, T_a, Q_m, h_0, T_f]\n",
    "rvs = np.array(rvs).reshape(1, -1)\n",
    "\n",
    "# solution domain\n",
    "x = np.linspace(0, L, num=49)"
   ]
  },
  {
   "cell_type": "markdown",
   "metadata": {},
   "source": [
    "## Analytical solution"
   ]
  },
  {
   "cell_type": "code",
   "execution_count": 5,
   "metadata": {},
   "outputs": [],
   "source": [
    "def analyticSol(x):\n",
    "    A = np.sqrt(w_b/k)\n",
    "    lterm = (T_c - T_a - Q_m/w_b) * (A * np.cosh(A * x)  +\\\n",
    "                +  (h_0/k) * np.sinh(A * x)) / (A * np.cosh(A * L) + (h_0/k) * np.sinh(A * L))\n",
    "    rterm = h_0/k * (T_f - T_a - Q_m/w_b) * np.sinh(A * (L * np.ones(shape=x.shape) - x)) / ( A * np.cosh(A * L) + (h_0/k) * np.sinh(A * L)) \n",
    "\n",
    "    return  T_a + Q_m/w_b + lterm + rterm"
   ]
  },
  {
   "cell_type": "code",
   "execution_count": 7,
   "metadata": {},
   "outputs": [
    {
     "data": {
      "image/png": "[encoded data removed]",
      "text/plain": [
       "<Figure size 388.543x240.133 with 1 Axes>"
      ]
     },
     "metadata": {
      "needs_background": "light"
     },
     "output_type": "display_data"
    }
   ],
   "source": [
    "T_anal = analyticSol(x)\n",
    "\n",
    "fig = plt.figure(figsize=figsize(1))\n",
    "ax = fig.add_subplot(111)\n",
    "ax.plot(x, T_anal, 'r-', label='T(x)')\n",
    "ax.set_xlabel('x [m]')\n",
    "ax.set_ylabel('T [°C]')\n",
    "plt.grid()\n",
    "plt.legend(loc='best')\n",
    "plt.show()\n",
    "fig.savefig('{}.pdf'.format('figs/analytical-solution'), bbox_inches='tight')"
   ]
  },
  {
   "cell_type": "markdown",
   "metadata": {},
   "source": [
    "## Monte Carlo Uncertainty Analysis"
   ]
  },
  {
   "cell_type": "code",
   "execution_count": 8,
   "metadata": {},
   "outputs": [],
   "source": [
    "@njit\n",
    "def monteCarloSim(rvs, coef_var=0.2, num_samples=1000, num_iters=1000):\n",
    "    sims_global = np.empty(shape=(num_iters, num_samples, rvs.shape[1]))\n",
    "    for i in range(num_iters):\n",
    "        xi = np.random.rand(num_samples, len(rvs)) # random values\n",
    "        sims = np.zeros(shape=xi.shape)            # empty simulations matrix\n",
    "        \n",
    "        rvs_min = rvs - coef_var*rvs              \n",
    "        rvs_max = rvs + coef_var*rvs\n",
    "\n",
    "        sims = rvs_min + (rvs_max - rvs_min) * xi\n",
    "        sims_global[i, :, :] = sims\n",
    "    return sims_global\n",
    "\n",
    "@njit\n",
    "def monteCarloT(x, K, w_b, T_a, Q_m, h_0, T_f):\n",
    "    A = np.sqrt(w_b/K)\n",
    "    lterm = (T_c - T_a - Q_m/w_b) * (A * np.cosh(A * x)  +\\\n",
    "                +  (h_0/K) * np.sinh(A * x)) / (A * np.cosh(A * L) + (h_0/K) * np.sinh(A * L))\n",
    "    rterm = h_0/K * (T_f - T_a - Q_m/w_b) * np.sinh(A * (L * np.ones(shape=x.shape) - x)) / ( A * np.cosh(A * L) + (h_0/K) * np.sinh(A * L)) \n",
    "\n",
    "    return T_a + Q_m/w_b + lterm + rterm\n",
    "\n",
    "@njit\n",
    "def monteCarloResample(x, mc):\n",
    "    num_iters, num_samples, n_rv = mc.shape\n",
    "    \n",
    "    T_mc = np.empty(shape=(num_iters, num_samples, x.shape[0]))\n",
    "    \n",
    "    for it in range(num_iters):\n",
    "        for sample in range(num_samples):\n",
    "            T_mc[it, sample, :] = monteCarloT(x, mc[it, sample, 0], mc[it, sample, 1], mc[it, sample, 2], mc[it, sample, 3], mc[it, sample, 4], mc[it, sample, 5])\n",
    "    return T_mc"
   ]
  },
  {
   "cell_type": "code",
   "execution_count": 10,
   "metadata": {},
   "outputs": [
    {
     "name": "stdout",
     "output_type": "stream",
     "text": [
      "Simulation time: 0.05543851852416992s\n"
     ]
    }
   ],
   "source": [
    "num_samples = 100\n",
    "num_iters = 100\n",
    "coef_var = 0.2\n",
    "\n",
    "start = time.time()\n",
    "mc = monteCarloSim(rvs, coef_var, num_samples, num_iters)\n",
    "T_mc = monteCarloResample(x, mc)\n",
    "print('Simulation time: {}s'.format(time.time() - start))"
   ]
  },
  {
   "cell_type": "code",
   "execution_count": 20,
   "metadata": {},
   "outputs": [
    {
     "data": {
      "image/png": "[encoded data removed]",
      "text/plain": [
       "<Figure size 388.543x480.266 with 2 Axes>"
      ]
     },
     "metadata": {
      "needs_background": "light"
     },
     "output_type": "display_data"
    }
   ],
   "source": [
    "# single sample\n",
    "_sample_exmp = 0\n",
    "T_mc0 = T_mc[_sample_exmp]\n",
    "T_mc0_mean = np.mean(T_mc0, axis=0)\n",
    "T_mc0_std = np.std(T_mc0, axis=0)\n",
    "T_mc0_lower_bound = T_mc0_mean - T_mc0_std\n",
    "T_mc0_upper_bound = T_mc0_mean + T_mc0_std\n",
    "\n",
    "fig = plt.figure(figsize=figsize(1, 2))\n",
    "ax = fig.add_subplot(211)\n",
    "ax.plot(x, T_mc0_mean, 'r-', label='$<T(x)>$')\n",
    "ax.plot(x, T_mc0_lower_bound, 'k--', label='$<T(x)> \\pm \\sigma_T$')\n",
    "ax.plot(x, T_mc0_upper_bound, 'k--')\n",
    "ax.fill_between(x, T_mc0_lower_bound, T_mc0_upper_bound, alpha=0.2)\n",
    "ax.set_xlabel('$x$ [m]')\n",
    "ax.set_ylabel('$<T>$ [°C]')\n",
    "plt.legend(loc='best')\n",
    "# plt.title('Single MC sample')\n",
    "plt.grid()\n",
    "\n",
    "# full simulation\n",
    "T_mc_mean = np.mean(T_mc, axis=1)\n",
    "T_mean = np.mean(T_mc_mean, axis=0)\n",
    "T_std = np.std(T_mc_mean, axis=0)\n",
    "T_lower_bound = T_mc_mean[np.argmin(T_mc_mean[:, 0], axis=0)]\n",
    "T_upper_bound = T_mc_mean[np.argmax(T_mc_mean[:, 0], axis=0)]\n",
    "\n",
    "ax = fig.add_subplot(212)\n",
    "ax.plot(x, T_mean, 'r-', label='MCM ({} samples, {} epochs) mean'.format(num_samples, num_iters))\n",
    "ax.plot(x, T_lower_bound, 'k--', label='MCM min')\n",
    "ax.plot(x, T_upper_bound, 'k--', label='MCM max')\n",
    "ax.fill_between(x, T_lower_bound, T_upper_bound, alpha=0.2)\n",
    "ax.set_xlabel('$x$ [m]')\n",
    "ax.set_ylabel('$<T>$ [°C]')\n",
    "plt.legend(loc='best')\n",
    "# plt.title('MC num. of epochs: {}'.format(num_iters))\n",
    "plt.grid()\n",
    "\n",
    "fig.savefig('{}-{}epochs-{}samples.pdf'.format('figs/mc-simulation', num_iters, num_samples), bbox_inches='tight')\n",
    "plt.show()"
   ]
  },
  {
   "cell_type": "code",
   "execution_count": 21,
   "metadata": {},
   "outputs": [
    {
     "data": {
      "image/png": "[encoded data removed]",
      "text/plain": [
       "<Figure size 388.543x240.133 with 1 Axes>"
      ]
     },
     "metadata": {
      "needs_background": "light"
     },
     "output_type": "display_data"
    }
   ],
   "source": [
    "# distribution of sample means\n",
    "def ecdf(data):\n",
    "    \"\"\"Compute ECDF for a one-dimensional array of measurements.\"\"\"\n",
    "    n = len(data)\n",
    "    x = np.sort(data)\n",
    "    y = np.arange(1, n+1) / n\n",
    "    return x, y\n",
    "\n",
    "# distribution\n",
    "_exmp = 0\n",
    "x_cdf, y_cdf = ecdf(T_mc_mean[:, _exmp])\n",
    "\n",
    "# theretical gaussian distribution based on the MC simualted data\n",
    "samples = np.random.normal(np.mean(T_mc_mean[:, _exmp]), np.std(T_mc_mean[:, _exmp]), 10000)\n",
    "x_theor, y_theor = ecdf(samples)\n",
    "\n",
    "fig = plt.figure(figsize=figsize(1))\n",
    "ax = fig.add_subplot(111)\n",
    "ax.plot(x_cdf, y_cdf, marker='o', alpha=0.6, label='mean of samples on surface \\n($x=0$)')\n",
    "ax.plot(x_theor, y_theor, 'r-', linewidth=2, label='Gaussian fit')\n",
    "ax.set_xlabel('$T$ [°C]')\n",
    "ax.set_ylabel('CDF')\n",
    "plt.grid()\n",
    "plt.legend(loc='best')\n",
    "\n",
    "fig.savefig('{}.pdf'.format('figs/mc-distribution'), bbox_inches='tight')\n",
    "plt.show()"
   ]
  },
  {
   "cell_type": "markdown",
   "metadata": {},
   "source": [
    "## Finite Element Numerical Solution"
   ]
  },
  {
   "cell_type": "code",
   "execution_count": 22,
   "metadata": {},
   "outputs": [],
   "source": [
    "def assemble_l(lhss, lhs_glob):\n",
    "    if lhs_glob.shape[0]!=lhs_glob.shape[1]:\n",
    "        raise Exception(\"Global matrix is not square matrix!\") \n",
    "    else:\n",
    "        for i, lhs in enumerate(lhss):\n",
    "            lhs_glob[i:i+lhs.shape[0], i:i+lhs.shape[1]] += lhs\n",
    "    return lhs_glob    \n",
    "\n",
    "def assemble_r(rhss, rhs_glob):\n",
    "    for i, rhs in enumerate(rhss):\n",
    "        rhs_glob[i:i+rhs.shape[0], ] += rhs\n",
    "    return rhs_glob"
   ]
  },
  {
   "cell_type": "code",
   "execution_count": 23,
   "metadata": {},
   "outputs": [],
   "source": [
    "# domain\n",
    "L = 3e-2\n",
    "x = np.linspace(0, L, 100)\n",
    "\n",
    "# fem\n",
    "N = 10 # number of elements\n",
    "\n",
    "# solution\n",
    "lhs_glob = np.zeros((N+1, N+1))\n",
    "T = np.zeros((N+1, 1))\n",
    "rhs_glob = np.zeros((N+1, 1))"
   ]
  },
  {
   "cell_type": "code",
   "execution_count": 24,
   "metadata": {},
   "outputs": [],
   "source": [
    "# base function combinations\n",
    "n1 = lambda x, a, b:     (w_b*T_a + Q_m) * (b-x)/(b-a)\n",
    "n2 = lambda x, a, b:     (w_b*T_a + Q_m) * (x-a)/(b-a)\n",
    "\n",
    "nn11 = lambda x, a, b:    w_b * ((b-x)/(b-a))**2\n",
    "nn12 = lambda x, a, b:    w_b * ((x-a)*(b-x))/((b-a)**2)\n",
    "nn21 = lambda x, a, b:    w_b * ((x-a)*(b-x))/((b-a)**2)\n",
    "nn22 = lambda x, a, b:    w_b * ((x-a)/(b-a))**2\n",
    "\n",
    "nn_x11 = lambda x, a, b:  k/((b-a)**2)\n",
    "nn_x12 = lambda x, a, b:  -k/((b-a)**2)\n",
    "nn_x21 = lambda x, a, b:  -k/((b-a)**2)\n",
    "nn_x22 = lambda x, a, b:  k/((b-a)**2)"
   ]
  },
  {
   "cell_type": "code",
   "execution_count": 25,
   "metadata": {},
   "outputs": [
    {
     "name": "stdout",
     "output_type": "stream",
     "text": [
      "1. element: integration domain [0, 0.003]\n",
      "2. element: integration domain [0.003, 0.006]\n",
      "3. element: integration domain [0.006, 0.009000000000000001]\n",
      "4. element: integration domain [0.009000000000000001, 0.012]\n",
      "5. element: integration domain [0.012, 0.015]\n",
      "6. element: integration domain [0.015, 0.018]\n",
      "7. element: integration domain [0.018, 0.020999999999999998]\n",
      "8. element: integration domain [0.020999999999999998, 0.023999999999999997]\n",
      "9. element: integration domain [0.023999999999999997, 0.026999999999999996]\n",
      "10. element: integration domain [0.026999999999999996, 0.029999999999999995]\n"
     ]
    }
   ],
   "source": [
    "a = 0\n",
    "dx = L/N\n",
    "b = dx\n",
    "lhs = np.zeros((2, 2))\n",
    "rhs = np.zeros((2, 1))\n",
    "lhss = []\n",
    "rhss = []\n",
    "for i in range(N):\n",
    "    print('{}. element: integration domain [{}, {}]'.format(i+1, a, b))\n",
    "    lhs[0,0] = -(quad(nn11, a, b, args=(a, b))[0] + quad(nn_x11, a, b, args=(a, b))[0])\n",
    "    lhs[0,1] = -(quad(nn12, a, b, args=(a, b))[0] + quad(nn_x12, a, b, args=(a, b))[0])\n",
    "    lhs[1,0] = -(quad(nn21, a, b, args=(a, b))[0] + quad(nn_x21, a, b, args=(a, b))[0])\n",
    "    lhs[1,1] = -(quad(nn22, a, b, args=(a, b))[0] + quad(nn_x22, a, b, args=(a, b))[0])\n",
    "    lhss.append(lhs)\n",
    "    \n",
    "    rhs[0, 0] = -(quad(n1, a, b, args=(a, b))[0])\n",
    "    rhs[1, 0] = -(quad(n2, a, b, args=(a, b))[0])\n",
    "    rhss.append(rhs)\n",
    "    \n",
    "    a = a + dx\n",
    "    b = b + dx"
   ]
  },
  {
   "cell_type": "code",
   "execution_count": 26,
   "metadata": {},
   "outputs": [],
   "source": [
    "# assemble in global matrices\n",
    "lhs_glob = assemble_l(lhss, lhs_glob)\n",
    "rhs_glob = assemble_r(rhss, rhs_glob)"
   ]
  },
  {
   "cell_type": "code",
   "execution_count": 27,
   "metadata": {},
   "outputs": [],
   "source": [
    "# boundary conds\n",
    "# DBC\n",
    "T[-1, 0] = T_c                   \n",
    "lhs_glob = lhs_glob[:-1, :-1]\n",
    "rhs_glob = rhs_glob[:-1, ]\n",
    "\n",
    "# RBC\n",
    "lhs_glob[0, 0] -= h_0            \n",
    "rhs_glob[0, 0] -= h_0 * T_f\n",
    "rhs_glob[-1, 0] -= T_c * lhs_glob[-1, -2] "
   ]
  },
  {
   "cell_type": "code",
   "execution_count": 28,
   "metadata": {},
   "outputs": [],
   "source": [
    "# T = B \\ A\n",
    "T[:-1, ] = np.linalg.inv(lhs_glob) @ rhs_glob"
   ]
  },
  {
   "cell_type": "code",
   "execution_count": 29,
   "metadata": {},
   "outputs": [
    {
     "data": {
      "image/png": "[encoded data removed]",
      "text/plain": [
       "<Figure size 388.543x240.133 with 1 Axes>"
      ]
     },
     "metadata": {
      "needs_background": "light"
     },
     "output_type": "display_data"
    }
   ],
   "source": [
    "x_anal = np.linspace(0, L, num=T_anal.shape[0])\n",
    "x = np.linspace(0, L, num=T.shape[0])\n",
    "\n",
    "fig = plt.figure(figsize=figsize(1))\n",
    "ax = fig.add_subplot(111)\n",
    "ax.axhline(y=T_c, color='black', linestyle=':', label='body/arterial temperature')\n",
    "ax.axvline(x=x[np.where(np.max(T)==T)[0]], color='black', linestyle='-.', label='peak temperature depth')\n",
    "ax.plot(x_anal, T_anal, linewidth=2, color='red', label='analytical')\n",
    "ax.plot(x, T, linestyle='None', color='red', marker='o', markersize=7, label='FEM ({} elements)'.format(N))\n",
    "ax.set_xlabel('$x$ [m]')\n",
    "ax.set_ylabel('$T$ [°C]')\n",
    "plt.grid()\n",
    "plt.legend(loc='best')\n",
    "# plt.title('{} finite elements'.format(N))\n",
    "\n",
    "fig.savefig('{}-{}felems.pdf'.format('figs/FEM', N), bbox_inches='tight')\n",
    "plt.show()"
   ]
  },
  {
   "cell_type": "markdown",
   "metadata": {},
   "source": [
    "## Physics Informed Neural Network"
   ]
  },
  {
   "cell_type": "markdown",
   "metadata": {},
   "source": [
    "Ref 1: [Data-driven Solutions of Nonlinear Partial Differential Equations, M. Raissi et al.](https://arxiv.org/abs/1711.10561)\n",
    "\n",
    "Ref 2: [DeepXDE: A deep learning library for solving differential equations, Lu Lu et al.](https://arxiv.org/abs/1907.04502)\n",
    "\n",
    "Data-driven solution of time-independent PDE using Physics-informed Neural Network approach. Instead of dealing with it numerically, the solution is transformed into optimization problem:\n",
    "\n",
    "$$\n",
    "k \\cdot \\frac{d^2 T}{d x^2} - w_b \\cdot T(x) + w_b \\cdot T_a + Q_m  = 0\n",
    "$$\n",
    "\n",
    "$$ \\Downarrow $$\n",
    "\n",
    "$$\n",
    "J(\\theta) = [k \\cdot \\frac{d^2 \\hat{T}}{d x^2} - w_b \\cdot \\hat T(x) + w_b \\cdot T_a + Q_m]^2 + [\\hat T(0) - T_0]^2 + [\\hat T(L) - T_L]^2\n",
    "$$\n",
    "\n",
    "$$\n",
    "\\mbox{Optimization: } \\fbox{ $\\min_{\\theta} J(\\theta)$}\n",
    "$$\n",
    "\n",
    "where:\n",
    "* $J(\\theta)$ is the cost function;\n",
    "* $\\hat{T}(x)$ is the neural network's output for every input x and\n",
    "* $T_0$ and $T_L$ are boundary conditions.\n",
    "\n",
    "\n",
    "Neural network configuration:\n",
    "* activation: tanh\n",
    "* initializer: Glorot uniform\n",
    "* architecture: input (1), 3 hidden (50), output (1)\n",
    "* optimization: Adam\n",
    "* metrics: l2 relative error\n"
   ]
  },
  {
   "cell_type": "code",
   "execution_count": 30,
   "metadata": {},
   "outputs": [],
   "source": [
    "def pde(x, y):\n",
    "    dy_x = tf.gradients(y, x)[0]\n",
    "    dy_xx = tf.gradients(dy_x, x)[0]\n",
    "    return k*dy_xx - w_b*y + (w_b*T_a + Q_m)\n",
    "\n",
    "def boundary_l(x, on_boundary):\n",
    "    return on_boundary and np.isclose(x[0], 0)\n",
    "\n",
    "def boundary_r(x, on_boundary):\n",
    "    return on_boundary and np.isclose(x[0], L)"
   ]
  },
  {
   "cell_type": "code",
   "execution_count": 31,
   "metadata": {},
   "outputs": [
    {
     "name": "stdout",
     "output_type": "stream",
     "text": [
      "Building feed-forward neural network...\n",
      "'build' took 0.056864 s\n",
      "\n",
      "Compiling model...\n",
      "'compile' took 0.588320 s\n",
      "\n",
      "Initializing variables...\n",
      "Training model...\n",
      "\n",
      "Step      Train loss                        Test loss                         Test metric   \n",
      "0         [1.24e+03, 1.87e+01, 1.36e+03]    [1.24e+03, 0.00e+00, 0.00e+00]    [9.99e-01]    \n",
      "1000      [1.71e+01, 1.99e+00, 1.41e+00]    [1.65e+01, 0.00e+00, 0.00e+00]    [1.55e-01]    \n",
      "2000      [1.18e-01, 4.48e-01, 4.50e-06]    [1.10e-01, 0.00e+00, 0.00e+00]    [7.39e-02]    \n",
      "3000      [7.60e-02, 4.44e-01, 2.95e-06]    [7.21e-02, 0.00e+00, 0.00e+00]    [7.35e-02]    \n",
      "4000      [5.90e-02, 4.06e-01, 2.06e-03]    [5.64e-02, 0.00e+00, 0.00e+00]    [7.01e-02]    \n",
      "5000      [4.81e-02, 3.48e-01, 8.79e-04]    [4.64e-02, 0.00e+00, 0.00e+00]    [6.53e-02]    \n",
      "6000      [5.34e-02, 2.48e-01, 9.51e-05]    [5.18e-02, 0.00e+00, 0.00e+00]    [5.52e-02]    \n",
      "7000      [7.39e-02, 8.07e-02, 1.31e-08]    [7.36e-02, 0.00e+00, 0.00e+00]    [3.17e-02]    \n",
      "8000      [1.91e-02, 5.08e-03, 1.54e-07]    [1.87e-02, 0.00e+00, 0.00e+00]    [8.02e-03]    \n",
      "9000      [2.57e-03, 1.15e-04, 7.54e-08]    [2.60e-03, 0.00e+00, 0.00e+00]    [1.20e-03]    \n",
      "10000     [1.85e-03, 3.63e-05, 3.41e-07]    [1.83e-03, 0.00e+00, 0.00e+00]    [6.76e-04]    \n",
      "\n",
      "Best model at step 10000:\n",
      "  train loss: 1.89e-03\n",
      "  test loss: 1.83e-03\n",
      "  test metric: [6.76e-04]\n",
      "  Uncertainty:\n",
      "    l2: 0.00285691\n",
      "    l_infinity: 0.000579834\n",
      "    max uncertainty location: [0.02393939]\n",
      "\n",
      "'train' took 37.729276 s\n",
      "\n",
      "Saving loss history to model/20200316-094712/loss.dat ...\n",
      "Saving training data to model/20200316-094712/train.dat ...\n",
      "Saving test data to model/20200316-094712/test.dat ...\n"
     ]
    }
   ],
   "source": [
    "geom = dde.geometry.Interval(0, L)\n",
    "#bc_l = dde.RobinBC(geom, lambda x, y: (h_0/k)*y - (h_0*T_f/k), boundary_l)\n",
    "bc_l = dde.DirichletBC(geom, lambda x: analyticSol(x), boundary_l)\n",
    "bc_r = dde.DirichletBC(geom, lambda x: analyticSol(x), boundary_r)\n",
    "data = dde.data.PDE(geom, 1, pde, [bc_l, bc_r], 50, 2, func=analyticSol, num_test=100)\n",
    "\n",
    "layer_size = [1] + [50] * 3 + [1]\n",
    "activation = \"tanh\"\n",
    "initializer = \"Glorot uniform\"\n",
    "net = dde.maps.FNN(layer_size, activation, initializer)\n",
    "net.outputs_modify(lambda x, y: y*10)\n",
    "\n",
    "t = datetime.datetime.now().strftime('%Y%m%d-%H%M%S')\n",
    "new_model_path = 'model/{}'.format(t)\n",
    "if not os.path.exists(new_model_path):\n",
    "    os.makedirs(new_model_path)\n",
    "model = dde.Model(data, net)\n",
    "model.compile(\"adam\", lr=0.001, metrics=[\"l2 relative error\"], loss_weights=[1e-7, 1e-2, 1])\n",
    "losshistory, train_state = model.train(epochs=10000, uncertainty=True)\n",
    "\n",
    "dde.postprocessing.save_loss_history(losshistory, 'model/{}/loss.dat'.format(t))\n",
    "dde.postprocessing.save_best_state(train_state, 'model/{}/train.dat'.format(t), 'model/{}/test.dat'.format(t))"
   ]
  },
  {
   "cell_type": "code",
   "execution_count": 33,
   "metadata": {},
   "outputs": [
    {
     "data": {
      "image/png": "[encoded data removed]",
      "text/plain": [
       "<Figure size 388.543x480.266 with 2 Axes>"
      ]
     },
     "metadata": {
      "needs_background": "light"
     },
     "output_type": "display_data"
    }
   ],
   "source": [
    "X_train, y_train, X_test, y_test, best_y, best_ystd = train_state.packed_data()\n",
    "y_dim = y_train.shape[1]\n",
    "idx = np.argsort(X_test[:, 0])\n",
    "X = X_test[idx, 0]\n",
    "\n",
    "# regression plot\n",
    "fig = plt.figure(figsize=figsize(1, nplots=2))\n",
    "ax = fig.add_subplot(211)\n",
    "for i in range(y_dim):\n",
    "    ax.plot(X_train[:, 0], y_train[:, i], 'ok', label='True points')\n",
    "    ax.plot(X, best_y[idx, i], \"-r\", label='Prediction')\n",
    "ax.set_xlabel('$x$ [m]')\n",
    "ax.set_ylabel('$T$ [°C]')\n",
    "plt.grid()\n",
    "plt.legend(loc='best')\n",
    "ax = fig.add_subplot(212)\n",
    "for i in range(y_dim):\n",
    "    #ax.plot(X_train[:, 0], y_train[:, i], 'ok', label='True points')\n",
    "    if best_ystd is not None:\n",
    "        ax.plot(X, best_y[idx, i] + 2 * best_ystd[idx, i], '-b', label='95\\% confidence interval')\n",
    "        ax.plot(X, best_y[idx, i] - 2 * best_ystd[idx, i], '-b')\n",
    "    ax.plot(X, best_y[idx, i], \"--r\", label='Prediction')\n",
    "ax.set_xlabel('$x$ [m]')\n",
    "ax.set_ylabel('$T$ [°C]')\n",
    "plt.grid()\n",
    "plt.legend(loc='best')\n",
    "\n",
    "fig.savefig('{}.pdf'.format('figs/regression'), bbox_inches='tight')\n",
    "plt.show()"
   ]
  },
  {
   "cell_type": "code",
   "execution_count": 37,
   "metadata": {},
   "outputs": [
    {
     "data": {
      "image/png": "[encoded data removed]",
      "text/plain": [
       "<Figure size 388.543x240.133 with 1 Axes>"
      ]
     },
     "metadata": {
      "needs_background": "light"
     },
     "output_type": "display_data"
    }
   ],
   "source": [
    "loss_train = np.sum(\n",
    "    np.array(losshistory.loss_train) * losshistory.loss_weights, axis=1\n",
    ")\n",
    "loss_test = np.sum(\n",
    "    np.array(losshistory.loss_test) * losshistory.loss_weights, axis=1\n",
    ")\n",
    "\n",
    "fig = plt.figure(figsize=figsize(1))\n",
    "ax = fig.add_subplot(111)\n",
    "ax.semilogy(losshistory.steps, loss_train, color='C0', label=\"Train loss\")\n",
    "ax.semilogy(losshistory.steps, loss_test, color='red', label=\"Test loss\")\n",
    "#for i in range(len(losshistory.metrics_test[0])):\n",
    "    #ax.semilogy(losshistory.steps, np.array(losshistory.metrics_test)[:, i], color='black', label=\"Test metric\",)\n",
    "ax.set_xlabel('Number of epochs')\n",
    "ax.set_ylabel(r'$J(\\theta)$')\n",
    "plt.grid()\n",
    "plt.legend(loc='best')\n",
    "\n",
    "fig.savefig('{}.pdf'.format('figs/loss'), bbox_inches='tight')\n",
    "plt.show()"
   ]
  },
  {
   "cell_type": "code",
   "execution_count": 38,
   "metadata": {},
   "outputs": [
    {
     "data": {
      "text/plain": [
       "(5, 5, 5)"
      ]
     },
     "execution_count": 38,
     "metadata": {},
     "output_type": "execute_result"
    }
   ],
   "source": [
    "# random variables\n",
    "rvs = [k, w_b, T_a, Q_m, h_0]\n",
    "rvs = np.array(rvs).reshape(1, -1)\n",
    "num_samples = 5\n",
    "num_iters = 5\n",
    "rvs_data = monteCarloSim(rvs, coef_var=0.2, num_samples=num_samples, num_iters=num_iters)\n",
    "rvs_data.shape"
   ]
  },
  {
   "cell_type": "code",
   "execution_count": 39,
   "metadata": {},
   "outputs": [],
   "source": [
    "# train_state_ensemble = []\n",
    "# for epoch in range(num_iters):\n",
    "#     train_state_full = []\n",
    "#     for sample in range(num_samples):\n",
    "#         k = rvs_data[epoch, sample, 0]\n",
    "#         w_b = rvs_data[epoch, sample, 1]\n",
    "#         T_a = rvs_data[epoch, sample, 2]\n",
    "#         Q_m = rvs_data[epoch, sample, 3]\n",
    "#         h_0 = rvs_data[epoch, sample, 4]\n",
    "\n",
    "#         geom = dde.geometry.Interval(0, L)\n",
    "#         bc_l = dde.DirichletBC(geom, lambda x: analyticSol(x), boundary_l)\n",
    "#         bc_r = dde.DirichletBC(geom, lambda x: analyticSol(x), boundary_r)\n",
    "#         data = dde.data.PDE(geom, 1, pde, [bc_l, bc_r], 50, 2, func=analyticSol, num_test=100)\n",
    "\n",
    "#         layer_size = [1] + [50] * 3 + [1]\n",
    "#         activation = \"tanh\"\n",
    "#         initializer = \"Glorot uniform\"\n",
    "#         net = dde.maps.FNN(layer_size, activation, initializer)\n",
    "#         net.outputs_modify(lambda x, y: y*10)\n",
    "\n",
    "#         model = dde.Model(data, net)\n",
    "#         model.compile(\"adam\", lr=0.001, metrics=[\"l2 relative error\"], loss_weights=[1e-7, 1e-2, 1])\n",
    "#         losshistory, train_state = model.train(epochs=10000, uncertainty=True, display_every=10000)\n",
    "#         train_state_full.append(train_state)\n",
    "#     train_state_ensemble.append(train_state_full)\n",
    "\n",
    "# X_train = np.zeros(shape=(num_iters, num_samples, 54))\n",
    "# y_train = np.zeros(shape=(num_iters, num_samples, 54))\n",
    "# X_test = np.zeros(shape=(num_iters, num_samples, 100))\n",
    "# y_test = np.zeros(shape=(num_iters, num_samples, 100))\n",
    "# best_y = np.zeros(shape=(num_iters, num_samples, 100))\n",
    "# best_ystd = np.zeros(shape=(num_iters, num_samples, 100))\n",
    "\n",
    "# for i, train_state_full in enumerate(train_state_ensemble):\n",
    "#     for j, train_state in enumerate(train_state_full):\n",
    "#         unpacked = train_state.packed_data()\n",
    "#         X_train[i, j, :] = unpacked[0].ravel()\n",
    "#         y_train[i, j, :] = unpacked[1].ravel()\n",
    "#         X_test[i, j, :] = unpacked[2].ravel()\n",
    "#         y_test[i, j, :] = unpacked[3].ravel()\n",
    "#         best_y[i, j, :] = unpacked[4].ravel()\n",
    "#         best_ystd[i, j, :] = unpacked[5].ravel()\n",
    "\n",
    "# np.save('X_train.npy', X_train)\n",
    "# np.save('y_train.npy', y_train)\n",
    "# np.save('X_test.npy', X_test)\n",
    "# np.save('y_test.npy', y_test)\n",
    "# np.save('best_y.npy', best_y)\n",
    "# np.save('best_ystd.npy', best_ystd)"
   ]
  },
  {
   "cell_type": "code",
   "execution_count": 40,
   "metadata": {},
   "outputs": [
    {
     "data": {
      "image/png": "[encoded data removed]",
      "text/plain": [
       "<Figure size 388.543x240.133 with 1 Axes>"
      ]
     },
     "metadata": {
      "needs_background": "light"
     },
     "output_type": "display_data"
    }
   ],
   "source": [
    "X_train = np.load('X_train.npy')\n",
    "y_train = np.load('y_train.npy')\n",
    "X_test = np.load('X_test.npy')\n",
    "y_test = np.load('y_test.npy')\n",
    "best_y = np.load('best_y.npy')\n",
    "best_ystd = np.load('best_ystd.npy')\n",
    "\n",
    "best_y_mc_mean = np.mean(best_y, axis=1)\n",
    "best_y_mean = np.mean(best_y_mc_mean, axis=0)\n",
    "best_y_std = np.std(best_y_mean, axis=0)\n",
    "best_y_lower_bound = best_y_mc_mean[np.argmin(best_y_mc_mean[:, 0], axis=0)]\n",
    "best_y_upper_bound = best_y_mc_mean[np.argmax(best_y_mc_mean[:, 0], axis=0)]\n",
    "\n",
    "fig = plt.figure(figsize=figsize(1))\n",
    "ax = fig.add_subplot(111)\n",
    "ax.plot(X, best_y_mean, 'r-', label='MC Neural Network mean')\n",
    "ax.plot(X, best_y_lower_bound, 'k--', label='MC lower bound')\n",
    "ax.plot(X, best_y_upper_bound, 'k--', label='MC upper bound')\n",
    "ax.fill_between(X, best_y_lower_bound, best_y_upper_bound, alpha=0.2)\n",
    "ax.set_xlabel('$x$ [m]')\n",
    "ax.set_ylabel('$<T>$ [°C]')\n",
    "plt.legend(loc='best')\n",
    "plt.grid()\n",
    "fig.savefig('{}.pdf'.format('figs/uncertainty-mcnn-{}epochs{}samples'.format(num_iters, num_samples)), bbox_inches='tight')\n",
    "plt.show()"
   ]
  },
  {
   "cell_type": "code",
   "execution_count": null,
   "metadata": {},
   "outputs": [],
   "source": []
  }
 ],
 "metadata": {
  "kernelspec": {
   "display_name": "Python 3",
   "language": "python",
   "name": "python3"
  },
  "language_info": {
   "codemirror_mode": {
    "name": "ipython",
    "version": 3
   },
   "file_extension": ".py",
   "mimetype": "text/x-python",
   "name": "python",
   "nbconvert_exporter": "python",
   "pygments_lexer": "ipython3",
   "version": "3.7.4"
  }
 },
 "nbformat": 4,
 "nbformat_minor": 4
}
