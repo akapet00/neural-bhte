{
 "cells": [
  {
   "cell_type": "markdown",
   "metadata": {},
   "source": [
    "Imports."
   ]
  },
  {
   "cell_type": "code",
   "execution_count": 1,
   "metadata": {},
   "outputs": [],
   "source": [
    "import datetime\n",
    "import time\n",
    "import os\n",
    "import sys\n",
    "sys.path.insert(0, 'utils/')\n",
    "\n",
    "import matplotlib.pyplot as plt\n",
    "\n",
    "import numpy as np\n",
    "\n",
    "from scipy.integrate import quad\n",
    "\n",
    "import numba\n",
    "from numba import njit"
   ]
  },
  {
   "cell_type": "markdown",
   "metadata": {},
   "source": [
    "Testing TF, GPU drivers and ROCm support."
   ]
  },
  {
   "cell_type": "code",
   "execution_count": 2,
   "metadata": {},
   "outputs": [
    {
     "name": "stdout",
     "output_type": "stream",
     "text": [
      "TF version: 1.15.0\n",
      "GPU support enabled: True\n",
      "ROCm support enabled: False\n"
     ]
    }
   ],
   "source": [
    "import tensorflow as tf\n",
    "# because of tf version many warnings will occur\n",
    "tf.compat.v1.logging.set_verbosity(tf.compat.v1.logging.ERROR)\n",
    "import deepxde as dde\n",
    "\n",
    "print('TF version: {}'.format(tf.__version__))\n",
    "print('GPU support enabled: {}'.format(tf.test.is_built_with_gpu_support()))\n",
    "print('ROCm support enabled: {}'.format(tf.test.is_built_with_rocm()))"
   ]
  },
  {
   "cell_type": "markdown",
   "metadata": {},
   "source": [
    "Figures configuration for journal papers."
   ]
  },
  {
   "cell_type": "code",
   "execution_count": 3,
   "metadata": {},
   "outputs": [],
   "source": [
    "from plotting import latexconfig, figsize\n",
    "latexconfig()"
   ]
  },
  {
   "cell_type": "markdown",
   "metadata": {},
   "source": [
    "# 1D Bioheat transfer time-invariant equation\n",
    "\n",
    "Time-variant 1D Pennes equation:\n",
    "\n",
    "$$\n",
    "\\nabla(k \\nabla T) + Q_b + Q_m + Q_{ext} = c_v \\rho \\frac{\\partial T}{\\partial t}\n",
    "$$\n",
    "\n",
    "where $Q_b = w_b \\cdot T_a - w_b \\cdot T$.\n",
    "\n",
    "Time-invariant form:\n",
    "\n",
    "$$\n",
    "k \\cdot \\frac{d^2 T}{d x^2} - w_b \\cdot T(x) + w_b \\cdot T_a + Q_m + Q_{ext} = 0\n",
    "$$\n",
    "\n",
    "Boundary conditions:\n",
    "\n",
    "**Dirichlet** $$\n",
    "T_0(x) = T_c \\hspace{10mm} x=L;\n",
    "$$\n",
    "\n",
    "**Robins** $$\n",
    "-k \\frac{dT_0(x)}{dx}=h_0[T_f - T_0(x)] \\hspace{10mm} x=0.\n",
    "$$\n",
    "\n",
    "Calculations for no external source of heating, $Q_{ext} = 0$."
   ]
  },
  {
   "cell_type": "code",
   "execution_count": 4,
   "metadata": {},
   "outputs": [],
   "source": [
    "# consts \n",
    "c_b = 4200 \n",
    "rho_b = 1e3 \n",
    "om_b = 5e-4\n",
    "c = 4200 \n",
    "h_f = 100;\n",
    "T_c = 37\n",
    "L = 3e-2\n",
    "\n",
    "# random variables\n",
    "k = 0.5\n",
    "w_b = c_b*rho_b*om_b\n",
    "Q_m = 33800\n",
    "h_0 = 10\n",
    "T_f = 25\n",
    "T_a = 37\n",
    "rvs = [k, w_b, T_a, Q_m, h_0, T_f]\n",
    "rvs = np.array(rvs).reshape(1, -1)\n",
    "\n",
    "# solution domain\n",
    "x = np.linspace(0, L, num=49)"
   ]
  },
  {
   "cell_type": "markdown",
   "metadata": {},
   "source": [
    "Analytical solution."
   ]
  },
  {
   "cell_type": "code",
   "execution_count": 5,
   "metadata": {},
   "outputs": [],
   "source": [
    "def analyticSol(x):\n",
    "    A = np.sqrt(w_b/k)\n",
    "    lterm = (T_c - T_a - Q_m/w_b) * (A * np.cosh(A * x)  +\\\n",
    "                +  (h_0/k) * np.sinh(A * x)) / (A * np.cosh(A * L) + (h_0/k) * np.sinh(A * L))\n",
    "    rterm = h_0/k * (T_f - T_a - Q_m/w_b) * np.sinh(A * (L * np.ones(shape=x.shape) - x)) / ( A * np.cosh(A * L) + (h_0/k) * np.sinh(A * L)) \n",
    "\n",
    "    return  T_a + Q_m/w_b + lterm + rterm"
   ]
  },
  {
   "cell_type": "code",
   "execution_count": 6,
   "metadata": {},
   "outputs": [
    {
     "name": "stderr",
     "output_type": "stream",
     "text": [
      "findfont: Font family ['serif'] not found. Falling back to DejaVu Sans.\n"
     ]
    },
    {
     "data": {
      "image/png": "[encoded data removed]",
      "text/plain": [
       "<Figure size 388.543x240.133 with 1 Axes>"
      ]
     },
     "metadata": {
      "needs_background": "light"
     },
     "output_type": "display_data"
    }
   ],
   "source": [
    "T_anal = analyticSol(x)\n",
    "\n",
    "fig = plt.figure(figsize=figsize(1))\n",
    "ax = fig.add_subplot(111)\n",
    "ax.plot(x, T_anal, 'r-', label='T(x)')\n",
    "ax.set_xlabel('x [m]')\n",
    "ax.set_ylabel('T [°C]')\n",
    "plt.grid()\n",
    "plt.legend(loc='best')\n",
    "plt.show()\n",
    "fig.savefig('{}.pdf'.format('figs/analytical-solution'), bbox_inches='tight')"
   ]
  },
  {
   "cell_type": "markdown",
   "metadata": {},
   "source": [
    "Monte Carlo simulation."
   ]
  },
  {
   "cell_type": "code",
   "execution_count": 7,
   "metadata": {},
   "outputs": [],
   "source": [
    "@njit\n",
    "def monteCarloSim(x, rvs, coef_var=0.2, num_samples=1000, num_iters=1000):\n",
    "    sims_global = np.empty(shape=(num_iters, num_samples, rvs.shape[1]))\n",
    "    for i in range(num_iters):\n",
    "        xi = np.random.rand(num_samples, len(rvs)) # random values\n",
    "        sims = np.zeros(shape=xi.shape)            # empty simulations matrix\n",
    "        \n",
    "        rvs_min = rvs - coef_var*rvs              \n",
    "        rvs_max = rvs + coef_var*rvs\n",
    "\n",
    "        sims = rvs_min + (rvs_max - rvs_min) * xi\n",
    "        sims_global[i, :, :] = sims\n",
    "    return sims_global\n",
    "\n",
    "@njit\n",
    "def monteCarloT(x, K, w_b, T_a, Q_m, h_0, T_f):\n",
    "    A = np.sqrt(w_b/K)\n",
    "    lterm = (T_c - T_a - Q_m/w_b) * (A * np.cosh(A * x)  +\\\n",
    "                +  (h_0/K) * np.sinh(A * x)) / (A * np.cosh(A * L) + (h_0/K) * np.sinh(A * L))\n",
    "    rterm = h_0/K * (T_f - T_a - Q_m/w_b) * np.sinh(A * (L * np.ones(shape=x.shape) - x)) / ( A * np.cosh(A * L) + (h_0/K) * np.sinh(A * L)) \n",
    "\n",
    "    return T_a + Q_m/w_b + lterm + rterm\n",
    "\n",
    "@njit\n",
    "def monteCarloResample(x, mc):\n",
    "    num_iters, num_samples, n_rv = mc.shape\n",
    "    \n",
    "    T_mc = np.empty(shape=(num_iters, num_samples, x.shape[0]))\n",
    "    \n",
    "    for it in range(num_iters):\n",
    "        for sample in range(num_samples):\n",
    "            T_mc[it, sample, :] = monteCarloT(x, mc[it, sample, 0], mc[it, sample, 1], mc[it, sample, 2], mc[it, sample, 3], mc[it, sample, 4], mc[it, sample, 5])\n",
    "    return T_mc"
   ]
  },
  {
   "cell_type": "code",
   "execution_count": 8,
   "metadata": {},
   "outputs": [
    {
     "name": "stdout",
     "output_type": "stream",
     "text": [
      "Simulation time: 2.1494176387786865s\n"
     ]
    }
   ],
   "source": [
    "num_samples = 1000\n",
    "num_iters = 100\n",
    "coef_var = 0.2\n",
    "\n",
    "start = time.time()\n",
    "mc = monteCarloSim(x, rvs, coef_var, num_samples, num_iters)\n",
    "T_mc = monteCarloResample(x, mc)\n",
    "print('Simulation time: {}s'.format(time.time() - start))"
   ]
  },
  {
   "cell_type": "code",
   "execution_count": 9,
   "metadata": {},
   "outputs": [
    {
     "data": {
      "image/png": "[encoded data removed]",
      "text/plain": [
       "<Figure size 388.543x480.266 with 2 Axes>"
      ]
     },
     "metadata": {
      "needs_background": "light"
     },
     "output_type": "display_data"
    }
   ],
   "source": [
    "# single sample\n",
    "_sample_exmp = 0\n",
    "T_mc0 = T_mc[_sample_exmp]\n",
    "T_mc0_mean = np.mean(T_mc0, axis=0)\n",
    "T_mc0_std = np.std(T_mc0, axis=0)\n",
    "T_mc0_lower_bound = T_mc0_mean - T_mc0_std\n",
    "T_mc0_upper_bound = T_mc0_mean + T_mc0_std\n",
    "\n",
    "fig = plt.figure(figsize=figsize(1, 2))\n",
    "ax = fig.add_subplot(211)\n",
    "ax.plot(x, T_mc0_mean, 'r-', label='mean')\n",
    "ax.plot(x, T_mc0_lower_bound, 'k--', label='lower bound (-1 std)')\n",
    "ax.plot(x, T_mc0_upper_bound, 'k--', label='upper bound (-1 std)')\n",
    "ax.fill_between(x, T_mc0_lower_bound, T_mc0_upper_bound, alpha=0.2)\n",
    "ax.set_xlabel('x [m]')\n",
    "ax.set_ylabel('T [°C]')\n",
    "plt.legend(loc='best')\n",
    "# plt.title('Single MC sample')\n",
    "plt.grid()\n",
    "\n",
    "# full simulation\n",
    "T_mc_mean = np.mean(T_mc, axis=1)\n",
    "T_mean = np.mean(T_mc_mean, axis=0)\n",
    "T_std = np.std(T_mc_mean, axis=0)\n",
    "T_lower_bound = T_mc_mean[np.argmin(T_mc_mean[:, 0], axis=0)]\n",
    "T_upper_bound = T_mc_mean[np.argmax(T_mc_mean[:, 0], axis=0)]\n",
    "\n",
    "ax = fig.add_subplot(212)\n",
    "ax.plot(x, T_mean, 'r-', label='mean of sample means')\n",
    "ax.plot(x, T_lower_bound, 'k--', label='min of sample means')\n",
    "ax.plot(x, T_upper_bound, 'k--', label='max of sample means')\n",
    "ax.fill_between(x, T_lower_bound, T_upper_bound, alpha=0.2)\n",
    "ax.set_xlabel('x [m]')\n",
    "ax.set_ylabel('T [°C]')\n",
    "plt.legend(loc='best')\n",
    "# plt.title('MC num. of epochs: {}'.format(num_iters))\n",
    "plt.grid()\n",
    "\n",
    "fig.savefig('{}-{}epochs-{}samples.pdf'.format('figs/mc-simulation', num_iters, num_samples), bbox_inches='tight')\n",
    "plt.show()"
   ]
  },
  {
   "cell_type": "code",
   "execution_count": 10,
   "metadata": {},
   "outputs": [
    {
     "data": {
      "image/png": "[encoded data removed]",
      "text/plain": [
       "<Figure size 388.543x240.133 with 1 Axes>"
      ]
     },
     "metadata": {
      "needs_background": "light"
     },
     "output_type": "display_data"
    }
   ],
   "source": [
    "# distribution of sample means\n",
    "def ecdf(data):\n",
    "    \"\"\"Compute ECDF for a one-dimensional array of measurements.\"\"\"\n",
    "    n = len(data)\n",
    "    x = np.sort(data)\n",
    "    y = np.arange(1, n+1) / n\n",
    "    return x, y\n",
    "\n",
    "# distribution\n",
    "_exmp = 0\n",
    "x_cdf, y_cdf = ecdf(T_mc_mean[:, _exmp])\n",
    "\n",
    "# theretical gaussian distribution based on the MC simualted data\n",
    "samples = np.random.normal(np.mean(T_mc_mean[:, _exmp]), np.std(T_mc_mean[:, _exmp]), 10000)\n",
    "x_theor, y_theor = ecdf(samples)\n",
    "\n",
    "fig = plt.figure(figsize=figsize(1))\n",
    "ax = fig.add_subplot(111)\n",
    "ax.plot(x_cdf, y_cdf, marker='o', alpha=0.6, label='mean of samples on surface \\n(x=0 cm)')\n",
    "ax.plot(x_theor, y_theor, 'r--', linewidth=2, label='Gaussian')\n",
    "ax.set_xlabel('T [°C]')\n",
    "ax.set_ylabel('CDF')\n",
    "plt.grid()\n",
    "plt.legend(loc='best')\n",
    "\n",
    "fig.savefig('{}.pdf'.format('figs/mc-distribution'), bbox_inches='tight')\n",
    "plt.show()"
   ]
  },
  {
   "cell_type": "markdown",
   "metadata": {},
   "source": [
    "FEM."
   ]
  },
  {
   "cell_type": "code",
   "execution_count": 11,
   "metadata": {},
   "outputs": [],
   "source": [
    "def assemble_l(lhss, lhs_glob):\n",
    "    if lhs_glob.shape[0]!=lhs_glob.shape[1]:\n",
    "        raise Exception(\"Global matrix is not square matrix!\") \n",
    "    else:\n",
    "        for i, lhs in enumerate(lhss):\n",
    "            lhs_glob[i:i+lhs.shape[0], i:i+lhs.shape[1]] += lhs\n",
    "    return lhs_glob    \n",
    "\n",
    "def assemble_r(rhss, rhs_glob):\n",
    "    for i, rhs in enumerate(rhss):\n",
    "        rhs_glob[i:i+rhs.shape[0], ] += rhs\n",
    "    return rhs_glob"
   ]
  },
  {
   "cell_type": "code",
   "execution_count": 12,
   "metadata": {},
   "outputs": [],
   "source": [
    "# domain\n",
    "L = 3e-2\n",
    "x = np.linspace(0, L, 100)\n",
    "\n",
    "# fem\n",
    "N = 10 # number of elements\n",
    "\n",
    "# solution\n",
    "lhs_glob = np.zeros((N+1, N+1))\n",
    "T = np.zeros((N+1, 1))\n",
    "rhs_glob = np.zeros((N+1, 1))"
   ]
  },
  {
   "cell_type": "code",
   "execution_count": 13,
   "metadata": {},
   "outputs": [],
   "source": [
    "# base function combinations\n",
    "n1 = lambda x, a, b:     (w_b*T_a + Q_m) * (b-x)/(b-a)\n",
    "n2 = lambda x, a, b:     (w_b*T_a + Q_m) * (x-a)/(b-a)\n",
    "\n",
    "nn11 = lambda x, a, b:    w_b * ((b-x)/(b-a))**2\n",
    "nn12 = lambda x, a, b:    w_b * ((x-a)*(b-x))/((b-a)**2)\n",
    "nn21 = lambda x, a, b:    w_b * ((x-a)*(b-x))/((b-a)**2)\n",
    "nn22 = lambda x, a, b:    w_b * ((x-a)/(b-a))**2\n",
    "\n",
    "nn_x11 = lambda x, a, b:  k/((b-a)**2)\n",
    "nn_x12 = lambda x, a, b:  -k/((b-a)**2)\n",
    "nn_x21 = lambda x, a, b:  -k/((b-a)**2)\n",
    "nn_x22 = lambda x, a, b:  k/((b-a)**2)"
   ]
  },
  {
   "cell_type": "code",
   "execution_count": 14,
   "metadata": {},
   "outputs": [
    {
     "name": "stdout",
     "output_type": "stream",
     "text": [
      "1. element: integration domain [0, 0.003]\n",
      "2. element: integration domain [0.003, 0.006]\n",
      "3. element: integration domain [0.006, 0.009000000000000001]\n",
      "4. element: integration domain [0.009000000000000001, 0.012]\n",
      "5. element: integration domain [0.012, 0.015]\n",
      "6. element: integration domain [0.015, 0.018]\n",
      "7. element: integration domain [0.018, 0.020999999999999998]\n",
      "8. element: integration domain [0.020999999999999998, 0.023999999999999997]\n",
      "9. element: integration domain [0.023999999999999997, 0.026999999999999996]\n",
      "10. element: integration domain [0.026999999999999996, 0.029999999999999995]\n"
     ]
    }
   ],
   "source": [
    "a = 0\n",
    "dx = L/N\n",
    "b = dx\n",
    "lhs = np.zeros((2, 2))\n",
    "rhs = np.zeros((2, 1))\n",
    "lhss = []\n",
    "rhss = []\n",
    "for i in range(N):\n",
    "    print('{}. element: integration domain [{}, {}]'.format(i+1, a, b))\n",
    "    lhs[0,0] = -(quad(nn11, a, b, args=(a, b))[0] + quad(nn_x11, a, b, args=(a, b))[0])\n",
    "    lhs[0,1] = -(quad(nn12, a, b, args=(a, b))[0] + quad(nn_x12, a, b, args=(a, b))[0])\n",
    "    lhs[1,0] = -(quad(nn21, a, b, args=(a, b))[0] + quad(nn_x21, a, b, args=(a, b))[0])\n",
    "    lhs[1,1] = -(quad(nn22, a, b, args=(a, b))[0] + quad(nn_x22, a, b, args=(a, b))[0])\n",
    "    lhss.append(lhs)\n",
    "    \n",
    "    rhs[0, 0] = -(quad(n1, a, b, args=(a, b))[0])\n",
    "    rhs[1, 0] = -(quad(n2, a, b, args=(a, b))[0])\n",
    "    rhss.append(rhs)\n",
    "    \n",
    "    a = a + dx\n",
    "    b = b + dx"
   ]
  },
  {
   "cell_type": "code",
   "execution_count": 15,
   "metadata": {},
   "outputs": [],
   "source": [
    "# assemble in global matrices\n",
    "lhs_glob = assemble_l(lhss, lhs_glob)\n",
    "rhs_glob = assemble_r(rhss, rhs_glob)"
   ]
  },
  {
   "cell_type": "code",
   "execution_count": 16,
   "metadata": {},
   "outputs": [],
   "source": [
    "# boundary conds\n",
    "# DBC\n",
    "T[-1, 0] = T_c                   \n",
    "lhs_glob = lhs_glob[:-1, :-1]\n",
    "rhs_glob = rhs_glob[:-1, ]\n",
    "\n",
    "# RBC\n",
    "lhs_glob[0, 0] -= h_0            \n",
    "rhs_glob[0, 0] -= h_0 * T_f\n",
    "rhs_glob[-1, 0] -= T_c * lhs_glob[-1, -2] "
   ]
  },
  {
   "cell_type": "code",
   "execution_count": 17,
   "metadata": {},
   "outputs": [],
   "source": [
    "# T = B \\ A\n",
    "T[:-1, ] = np.linalg.inv(lhs_glob) @ rhs_glob"
   ]
  },
  {
   "cell_type": "code",
   "execution_count": 18,
   "metadata": {},
   "outputs": [
    {
     "data": {
      "image/png": "[encoded data removed]",
      "text/plain": [
       "<Figure size 388.543x240.133 with 1 Axes>"
      ]
     },
     "metadata": {
      "needs_background": "light"
     },
     "output_type": "display_data"
    }
   ],
   "source": [
    "x_anal = np.linspace(0, L, num=T_anal.shape[0])\n",
    "x = np.linspace(0, L, num=T.shape[0])\n",
    "\n",
    "fig = plt.figure(figsize=figsize(1))\n",
    "ax = fig.add_subplot(111)\n",
    "ax.axhline(y=T_c, color='red', linestyle='--', label='body/arterial temperature')\n",
    "ax.axvline(x=x[np.where(np.max(T)==T)[0]], color='green', linestyle='--', label='peak temperature depth')\n",
    "ax.plot(x_anal, T_anal, linewidth=3, label='analytical')\n",
    "ax.plot(x, T, linestyle='None', marker='o', markersize=7, label='FEM')\n",
    "ax.set_xlabel('x [m]')\n",
    "ax.set_ylabel('T [°C]')\n",
    "plt.grid()\n",
    "plt.legend(loc='best')\n",
    "# plt.title('{} finite elements'.format(N))\n",
    "\n",
    "fig.savefig('{}-{}felems.pdf'.format('figs/FEM', N), bbox_inches='tight')\n",
    "plt.show()"
   ]
  },
  {
   "cell_type": "markdown",
   "metadata": {},
   "source": [
    "Data-driven solution of time-independent PDE using Physics-informed Neural Network approach. Instead of dealing with it numerically, the solution is transformed into optimization problem:\n",
    "\n",
    "$$\n",
    "k \\cdot \\frac{d^2 T}{d x^2} - w_b \\cdot T(x) + w_b \\cdot T_a + Q_m  = 0\n",
    "$$\n",
    "\n",
    "$$ \\Downarrow $$\n",
    "\n",
    "$$\n",
    "J(\\theta) = [k \\cdot \\frac{d^2 \\hat{T}}{d x^2} - w_b \\cdot \\hat T(x) + w_b \\cdot T_a + Q_m]^2 + [\\hat T(0) - T_0]^2 + [\\hat T(L) - T_L]^2\n",
    "$$\n",
    "\n",
    "$$\n",
    "\\mbox{Optimization: } \\fbox{ $\\min_{\\theta} J(\\theta)$}\n",
    "$$\n",
    "\n",
    "where:\n",
    "* $J(\\theta)$ is the cost function;\n",
    "* $\\hat{T}(x)$ is the neural network's output for every input x and\n",
    "* $T_0$ and $T_L$ are boundary conditions.\n",
    "\n",
    "\n",
    "Neural network configuration:\n",
    "* activation: tanh\n",
    "* initializer: Glorot uniform\n",
    "* architecture: input (1), 3 hidden (50), output (1)\n",
    "* optimization: Adam\n",
    "* metrics: l2 relative error\n"
   ]
  },
  {
   "cell_type": "code",
   "execution_count": 19,
   "metadata": {},
   "outputs": [],
   "source": [
    "def pde(x, y):\n",
    "    dy_x = tf.gradients(y, x)[0]\n",
    "    dy_xx = tf.gradients(dy_x, x)[0]\n",
    "    return k*dy_xx - w_b*y + (w_b*T_a + Q_m)\n",
    "\n",
    "def boundary_l(x, on_boundary):\n",
    "    return on_boundary\n",
    "\n",
    "def boundary_r(x, on_boundary):\n",
    "    return on_boundary"
   ]
  },
  {
   "cell_type": "code",
   "execution_count": 20,
   "metadata": {},
   "outputs": [
    {
     "name": "stdout",
     "output_type": "stream",
     "text": [
      "Building feed-forward neural network...\n",
      "'build' took 0.057860 s\n",
      "\n",
      "Compiling model...\n",
      "'compile' took 0.854868 s\n",
      "\n",
      "Initializing variables...\n",
      "Training model...\n",
      "\n",
      "Step      Train loss                        Test loss                         Test metric   \n",
      "0         [1.24e+10, 2.50e+05, 1.37e+03]    [1.24e+10, 0.00e+00, 0.00e+00]    [inf]         \n"
     ]
    },
    {
     "name": "stderr",
     "output_type": "stream",
     "text": [
      "/home/alk/anaconda3/lib/python3.7/site-packages/deepxde/metrics.py:13: RuntimeWarning: divide by zero encountered in double_scalars\n",
      "  return np.linalg.norm(y_true - y_pred) / np.linalg.norm(y_true)\n"
     ]
    },
    {
     "name": "stdout",
     "output_type": "stream",
     "text": [
      "1000      [5.66e+08, 1.12e+05, 2.27e+01]    [5.66e+08, 0.00e+00, 0.00e+00]    [inf]         \n",
      "2000      [4.13e+06, 2.94e+05, 2.29e+02]    [4.13e+06, 0.00e+00, 0.00e+00]    [inf]         \n",
      "3000      [8.36e+02, 3.15e+05, 2.59e+02]    [8.34e+02, 0.00e+00, 0.00e+00]    [inf]         \n",
      "4000      [3.51e+01, 3.16e+05, 2.59e+02]    [3.46e+01, 0.00e+00, 0.00e+00]    [inf]         \n",
      "5000      [3.25e+01, 3.16e+05, 2.59e+02]    [3.20e+01, 0.00e+00, 0.00e+00]    [inf]         \n",
      "6000      [3.10e+01, 3.16e+05, 2.59e+02]    [3.06e+01, 0.00e+00, 0.00e+00]    [inf]         \n",
      "7000      [2.96e+01, 3.16e+05, 2.59e+02]    [2.92e+01, 0.00e+00, 0.00e+00]    [inf]         \n",
      "8000      [2.93e+01, 3.16e+05, 2.59e+02]    [2.89e+01, 0.00e+00, 0.00e+00]    [inf]         \n",
      "9000      [2.92e+01, 3.16e+05, 2.59e+02]    [2.87e+01, 0.00e+00, 0.00e+00]    [inf]         \n",
      "10000     [2.90e+01, 3.16e+05, 2.59e+02]    [2.86e+01, 0.00e+00, 0.00e+00]    [inf]         \n",
      "\n",
      "Best model at step 8000:\n",
      "  train loss: 3.16e+05\n",
      "  test loss: 2.89e+01\n",
      "  test metric: [inf]\n",
      "  Uncertainty:\n",
      "    l2: 0.00410023\n",
      "    l_infinity: 0.000671387\n",
      "    max uncertainty location: [0.02030303]\n",
      "\n",
      "'train' took 39.458305 s\n",
      "\n",
      "Saving loss history to model/20200308-165249/loss.dat ...\n",
      "Saving training data to model/20200308-165249/train.dat ...\n",
      "Saving test data to model/20200308-165249/test.dat ...\n"
     ]
    }
   ],
   "source": [
    "geom = dde.geometry.Interval(0, L)\n",
    "bc_l = dde.RobinBC(geom, lambda X, y: (h_0/k)*y - (h_0*T_f/k), boundary_l)\n",
    "bc_r = dde.DirichletBC(geom, lambda x: 0*x + T_c, boundary_r)\n",
    "data = dde.data.PDE(geom, 1, pde, [bc_l, bc_r], 16, 2, func=None, num_test=100)\n",
    "\n",
    "layer_size = [1] + [40] * 3 + [1]\n",
    "activation = \"tanh\"\n",
    "initializer = \"Glorot uniform\"\n",
    "net = dde.maps.FNN(layer_size, activation, initializer)\n",
    "\n",
    "t = datetime.datetime.now().strftime('%Y%m%d-%H%M%S')\n",
    "new_model_path = 'model/{}'.format(t)\n",
    "if not os.path.exists(new_model_path):\n",
    "    os.makedirs(new_model_path)\n",
    "model = dde.Model(data, net)\n",
    "model.compile(\"adam\", lr=0.001, metrics=[\"l2 relative error\"])\n",
    "losshistory, train_state = model.train(epochs=10000, uncertainty=True)\n",
    "\n",
    "dde.postprocessing.save_loss_history(losshistory, 'model/{}/loss.dat'.format(t))\n",
    "dde.postprocessing.save_best_state(train_state, 'model/{}/train.dat'.format(t), 'model/{}/test.dat'.format(t))"
   ]
  },
  {
   "cell_type": "code",
   "execution_count": 21,
   "metadata": {},
   "outputs": [
    {
     "data": {
      "image/png": "[encoded data removed]",
      "text/plain": [
       "<Figure size 388.543x240.133 with 1 Axes>"
      ]
     },
     "metadata": {
      "needs_background": "light"
     },
     "output_type": "display_data"
    }
   ],
   "source": [
    "loss_train = np.sum(\n",
    "    np.array(losshistory.loss_train) * losshistory.loss_weights, axis=1\n",
    ")\n",
    "loss_test = np.sum(\n",
    "    np.array(losshistory.loss_test) * losshistory.loss_weights, axis=1\n",
    ")\n",
    "\n",
    "fig = plt.figure(figsize=figsize(1))\n",
    "ax = fig.add_subplot(111)\n",
    "ax.semilogy(losshistory.steps, loss_train, label=\"Train loss\")\n",
    "ax.semilogy(losshistory.steps, loss_test, label=\"Test loss\")\n",
    "for i in range(len(losshistory.metrics_test[0])):\n",
    "    ax.semilogy(\n",
    "        losshistory.steps,\n",
    "        np.array(losshistory.metrics_test)[:, i],\n",
    "        label=\"Test metric\",\n",
    "    )\n",
    "ax.set_xlabel('Steps')\n",
    "ax.set_ylabel(r'$J(\\theta)$')\n",
    "plt.grid()\n",
    "plt.legend(loc='best')\n",
    "\n",
    "fig.savefig('{}.pdf'.format('figs/loss'), bbox_inches='tight')\n",
    "plt.show()"
   ]
  },
  {
   "cell_type": "code",
   "execution_count": 22,
   "metadata": {},
   "outputs": [
    {
     "data": {
      "image/png": "[encoded data removed]",
      "text/plain": [
       "<Figure size 388.543x240.133 with 1 Axes>"
      ]
     },
     "metadata": {
      "needs_background": "light"
     },
     "output_type": "display_data"
    }
   ],
   "source": [
    "X_train, y_train, X_test, y_test, best_y, best_ystd = train_state.packed_data()\n",
    "y_dim = y_train.shape[1]\n",
    "idx = np.argsort(X_test[:, 0])\n",
    "X = X_test[idx, 0]\n",
    "\n",
    "# regression plot\n",
    "fig = plt.figure(figsize=figsize(1))\n",
    "ax = fig.add_subplot(111)\n",
    "for i in range(y_dim):\n",
    "    ax.plot(X_train[:, 0], y_train[:, i], 'ok', label='Train points')\n",
    "    ax.plot(X, y_test[idx, i], \"-k\", label='True values')\n",
    "    ax.plot(X, best_y[idx, i], \"--r\", label='Prediction')\n",
    "    if best_ystd is not None:\n",
    "        ax.plot(X, best_y[idx, i] + 2 * best_ystd[idx, i], '-b', label='95% confidence interval')\n",
    "        ax.plot(X, best_y[idx, i] - 2 * best_ystd[idx, i], '-b')\n",
    "ax.set_xlabel('x [m]')\n",
    "ax.set_ylabel('T [°C]')\n",
    "plt.grid()\n",
    "plt.legend(loc='best')\n",
    "\n",
    "fig.savefig('{}.pdf'.format('figs/regression'), bbox_inches='tight')\n",
    "plt.show()"
   ]
  },
  {
   "cell_type": "code",
   "execution_count": null,
   "metadata": {},
   "outputs": [],
   "source": []
  }
 ],
 "metadata": {
  "kernelspec": {
   "display_name": "Python 3",
   "language": "python",
   "name": "python3"
  },
  "language_info": {
   "codemirror_mode": {
    "name": "ipython",
    "version": 3
   },
   "file_extension": ".py",
   "mimetype": "text/x-python",
   "name": "python",
   "nbconvert_exporter": "python",
   "pygments_lexer": "ipython3",
   "version": "3.7.4"
  }
 },
 "nbformat": 4,
 "nbformat_minor": 4
}
